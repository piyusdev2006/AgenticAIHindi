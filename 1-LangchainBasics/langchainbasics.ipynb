{
 "cells": [
  {
   "cell_type": "markdown",
   "id": "d62e829a",
   "metadata": {},
   "source": [
    "# Getting Started with Langchain\n",
    "- Simple LLM Calls with streamng\n",
    "- Dynamic Prompt Template(Translation apps)\n",
    "- Building chains(story generator with analysis)\n",
    "- Conventional Q&A assistent with memory\n",
    "- Tool integration Calculator and weather"
   ]
  },
  {
   "cell_type": "code",
   "execution_count": 1,
   "id": "c8cb7301",
   "metadata": {},
   "outputs": [],
   "source": [
    "import langchain"
   ]
  },
  {
   "cell_type": "code",
   "execution_count": 2,
   "id": "752cbe40",
   "metadata": {},
   "outputs": [
    {
     "data": {
      "text/plain": [
       "True"
      ]
     },
     "execution_count": 2,
     "metadata": {},
     "output_type": "execute_result"
    }
   ],
   "source": [
    "import os\n",
    "from dotenv import load_dotenv\n",
    "load_dotenv()"
   ]
  },
  {
   "cell_type": "code",
   "execution_count": 3,
   "id": "80a787f8",
   "metadata": {},
   "outputs": [],
   "source": [
    "os.environ[\"GROQ_API_KEY\"]=os.getenv(\"GROQ_API_KEY\")"
   ]
  },
  {
   "cell_type": "markdown",
   "id": "a89335a3",
   "metadata": {},
   "source": [
    "Example 1: Simple LLM Calls with streamng"
   ]
  },
  {
   "cell_type": "code",
   "execution_count": 4,
   "id": "fb43d803",
   "metadata": {},
   "outputs": [],
   "source": [
    "from langchain.chat_models import init_chat_model\n",
    "from langchain.schema import HumanMessage, SystemMessage"
   ]
  },
  {
   "cell_type": "code",
   "execution_count": 5,
   "id": "f80c4f18",
   "metadata": {},
   "outputs": [
    {
     "data": {
      "text/plain": [
       "ChatGroq(client=<groq.resources.chat.completions.Completions object at 0x000001F58BF86CF0>, async_client=<groq.resources.chat.completions.AsyncCompletions object at 0x000001F58BF878C0>, model_name='llama-3.1-8b-instant', model_kwargs={}, groq_api_key=SecretStr('**********'))"
      ]
     },
     "execution_count": 5,
     "metadata": {},
     "output_type": "execute_result"
    }
   ],
   "source": [
    "model= init_chat_model(\"groq:llama-3.1-8b-instant\")\n",
    "model"
   ]
  },
  {
   "cell_type": "markdown",
   "id": "3706f38e",
   "metadata": {},
   "source": [
    "## Another way to initialize model\n",
    "```\n",
    "from langchain_groq import ChatGroq\n",
    "llm=ChatGroq(model=\"groq:llama-3.1-8b-instant\")\n",
    "llm\n",
    "```"
   ]
  },
  {
   "cell_type": "code",
   "execution_count": 6,
   "id": "ed60c5bb",
   "metadata": {},
   "outputs": [],
   "source": [
    "## create messages\n",
    "messages = [\n",
    "    SystemMessage(content=\"You are a helpful assistant.\"),\n",
    "    HumanMessage(content=\"What are the 2 benefits of using LangChain?\"),\n",
    "]"
   ]
  },
  {
   "cell_type": "code",
   "execution_count": 7,
   "id": "c4d712a3",
   "metadata": {},
   "outputs": [
    {
     "data": {
      "text/plain": [
       "AIMessage(content='LangChain is a Python library for building conversational AI applications. The two benefits of using LangChain are:\\n\\n1. **Streamlined Conversational Flow**: LangChain provides a flexible and modular architecture that allows developers to easily create complex conversational flows. It enables the integration of multiple AI models, data sources, and other components, making it ideal for building conversational interfaces.\\n\\n2. **Efficient Data Management**: LangChain offers data management capabilities that make it easier to handle various data formats and sources. This includes the ability to load and manipulate data from databases, files, and other data storage systems, making it easier to integrate data into conversational applications.\\n\\nHowever, I must note that LangChain is relatively new and there may be other benefits not yet fully realized. For the most up-to-date information, please consult the LangChain documentation or community resources.', additional_kwargs={}, response_metadata={'finish_reason': 'stop', 'model_name': 'llama-3.1-8b-instant', 'system_fingerprint': 'fp_0f5c9bc037'}, id='run--52eae04c-529a-4dd1-81ae-af506602d293', usage_metadata={'input_tokens': 52, 'output_tokens': 173, 'total_tokens': 225})"
      ]
     },
     "execution_count": 7,
     "metadata": {},
     "output_type": "execute_result"
    }
   ],
   "source": [
    "## invoke the model\n",
    "response = model.invoke(messages, stream=True)\n",
    "response"
   ]
  },
  {
   "cell_type": "code",
   "execution_count": 8,
   "id": "63793cc5",
   "metadata": {},
   "outputs": [
    {
     "name": "stdout",
     "output_type": "stream",
     "text": [
      "LangChain is a Python library for building conversational AI applications. The two benefits of using LangChain are:\n",
      "\n",
      "1. **Streamlined Conversational Flow**: LangChain provides a flexible and modular architecture that allows developers to easily create complex conversational flows. It enables the integration of multiple AI models, data sources, and other components, making it ideal for building conversational interfaces.\n",
      "\n",
      "2. **Efficient Data Management**: LangChain offers data management capabilities that make it easier to handle various data formats and sources. This includes the ability to load and manipulate data from databases, files, and other data storage systems, making it easier to integrate data into conversational applications.\n",
      "\n",
      "However, I must note that LangChain is relatively new and there may be other benefits not yet fully realized. For the most up-to-date information, please consult the LangChain documentation or community resources.\n"
     ]
    }
   ],
   "source": [
    "## Print the response content \n",
    "print(response.content)"
   ]
  },
  {
   "cell_type": "code",
   "execution_count": 9,
   "id": "8eda68cd",
   "metadata": {},
   "outputs": [
    {
     "data": {
      "text/plain": [
       "AIMessage(content=\"Machine learning is a subset of artificial intelligence (AI) that involves training algorithms to learn from data and make predictions or decisions without being explicitly programmed. It's a method of enabling computers to improve their performance on a task by learning from experience and data, rather than relying on a set of pre-defined rules.\\n\\nMachine learning algorithms analyze data, identify patterns, and make predictions or decisions based on that analysis. These algorithms can be trained using various types of data, including:\\n\\n1. **Supervised learning**: The algorithm is trained on labeled data, where the correct output is already known. This type of learning is used for tasks like image classification, sentiment analysis, and speech recognition.\\n2. **Unsupervised learning**: The algorithm is trained on unlabeled data, and it must find patterns or structure within the data on its own. This type of learning is used for tasks like clustering, dimensionality reduction, and anomaly detection.\\n3. **Reinforcement learning**: The algorithm learns by interacting with an environment and receiving feedback in the form of rewards or penalties. This type of learning is used for tasks like game playing, robotics, and autonomous vehicles.\\n\\nMachine learning has many applications, including:\\n\\n1. **Image and speech recognition**: Machines can recognize objects, people, and spoken words.\\n2. **Natural language processing**: Machines can understand and generate human language.\\n3. **Predictive maintenance**: Machines can predict when equipment is likely to fail, allowing for proactive maintenance.\\n4. **Recommendation systems**: Machines can suggest products, services, or content based on user behavior and preferences.\\n5. **Self-driving cars**: Machines can navigate roads and make decisions based on real-time data.\\n\\nMachine learning has several benefits, including:\\n\\n1. **Improved accuracy**: Machines can learn from data and make predictions or decisions with high accuracy.\\n2. **Increased efficiency**: Machines can automate tasks and processes, freeing up human resources for more strategic work.\\n3. **Scalability**: Machines can handle large amounts of data and scale to meet growing demands.\\n4. **Flexibility**: Machines can adapt to changing data and requirements.\\n\\nHowever, machine learning also has some limitations and challenges, including:\\n\\n1. **Bias and fairness**: Machines can perpetuate biases and inequalities present in the data.\\n2. **Explainability**: Machines can be difficult to interpret and understand.\\n3. **Security**: Machines can be vulnerable to cyber attacks and data breaches.\\n4. **Data quality**: Machines require high-quality data to learn and make accurate predictions or decisions.\\n\\nOverall, machine learning is a powerful tool for automating tasks, improving accuracy, and driving business value. However, it requires careful consideration of its limitations and challenges to ensure its successful implementation.\", additional_kwargs={}, response_metadata={'token_usage': {'completion_tokens': 546, 'prompt_tokens': 40, 'total_tokens': 586, 'completion_time': 0.72952251, 'prompt_time': 0.001899451, 'queue_time': 0.049063078999999996, 'total_time': 0.731421961}, 'model_name': 'llama-3.1-8b-instant', 'system_fingerprint': 'fp_510c177af0', 'finish_reason': 'stop', 'logprobs': None}, id='run--9eb69693-d0ee-49c0-a3c6-15f70fd33ed5-0', usage_metadata={'input_tokens': 40, 'output_tokens': 546, 'total_tokens': 586})"
      ]
     },
     "execution_count": 9,
     "metadata": {},
     "output_type": "execute_result"
    }
   ],
   "source": [
    "model.invoke([HumanMessage(\"what is machine learning?\")])"
   ]
  },
  {
   "cell_type": "code",
   "execution_count": 10,
   "id": "c4d33d57",
   "metadata": {},
   "outputs": [
    {
     "name": "stdout",
     "output_type": "stream",
     "text": [
      "LangChain is an open-source library that enables developers to build complex, multi-turn conversational AI models using LLMs (Large Language Models) and other data sources. Two benefits of using LangChain are:\n",
      "\n",
      "1. **Multi-turn Conversational Interactions**: LangChain allows you to build conversational AI models that can engage in multi-turn conversations, understanding context, and responding accordingly. This enables more natural and human-like interactions with users.\n",
      "\n",
      "2. **Integration with External Data Sources**: LangChain also enables the integration of external data sources, such as APIs, databases, and files, into your conversational AI models. This allows you to leverage diverse data sources to provide more accurate and relevant responses to user queries.\n",
      "\n",
      "These benefits make LangChain a powerful tool for building conversational AI applications that can handle complex queries and provide more accurate and relevant responses."
     ]
    }
   ],
   "source": [
    "## streaming response\n",
    "for chunk in model.stream(messages):\n",
    "    print(chunk.content, end=\"\", flush=True)"
   ]
  },
  {
   "cell_type": "markdown",
   "id": "d284ecba",
   "metadata": {},
   "source": [
    "## Dynamic Prompt template"
   ]
  },
  {
   "cell_type": "code",
   "execution_count": 11,
   "id": "f87574f8",
   "metadata": {},
   "outputs": [],
   "source": [
    "from langchain_core.prompts import ChatPromptTemplate\n",
    "\n",
    "## cretae a translation app\n",
    "\n",
    "translation_template= ChatPromptTemplate.from_messages([\n",
    "    (\"system\", \"You are a helpful translator.Tranlaste the following {text} from {source_language} to {target_language}. Maintain the tone and style of the original text.\"),\n",
    "    (\"user\", \"{text}\"),\n",
    "]) "
   ]
  },
  {
   "cell_type": "code",
   "execution_count": 12,
   "id": "84a0c2c4",
   "metadata": {},
   "outputs": [],
   "source": [
    "prompt=translation_template.invoke({\n",
    "    \"source_language\": \"English\",\n",
    "    \"target_language\": \"Hindi\",\n",
    "    \"text\": \"Hello, how are you?\"\n",
    "})"
   ]
  },
  {
   "cell_type": "code",
   "execution_count": 13,
   "id": "1553e051",
   "metadata": {},
   "outputs": [
    {
     "data": {
      "text/plain": [
       "ChatPromptValue(messages=[SystemMessage(content='You are a helpful translator.Tranlaste the following Hello, how are you? from English to Hindi. Maintain the tone and style of the original text.', additional_kwargs={}, response_metadata={}), HumanMessage(content='Hello, how are you?', additional_kwargs={}, response_metadata={})])"
      ]
     },
     "execution_count": 13,
     "metadata": {},
     "output_type": "execute_result"
    }
   ],
   "source": [
    "prompt"
   ]
  },
  {
   "cell_type": "code",
   "execution_count": 14,
   "id": "93339283",
   "metadata": {},
   "outputs": [
    {
     "name": "stdout",
     "output_type": "stream",
     "text": [
      "नमस्ते (Hello), आप कैसे हैं? (How are you?)\n"
     ]
    }
   ],
   "source": [
    "translated_response=model.invoke(prompt)\n",
    "print(translated_response.content)"
   ]
  },
  {
   "cell_type": "markdown",
   "id": "54a053dd",
   "metadata": {},
   "source": [
    "## Builing our first chain : chain of event"
   ]
  },
  {
   "cell_type": "code",
   "execution_count": 28,
   "id": "231572f6",
   "metadata": {},
   "outputs": [],
   "source": [
    "from langchain_core.output_parsers import StrOutputParser\n",
    "from langchain_core.runnables import RunnablePassthrough, RunnableLambda\n",
    "from langchain_core.prompts import ChatPromptTemplate\n",
    "\n",
    "## story generation template\n",
    "def create_story_chain():\n",
    "    story_prompt=ChatPromptTemplate.from_messages(\n",
    "        [\n",
    "            (\"system\", \"You are a creative storyteller. Write a short and engaging story based on the following theme.\"),\n",
    "            (\"user\", \" Theme: {theme}\\n Main Characters: {characters}\\n Setting: {setting}\\n.\"),\n",
    "        ]\n",
    "    )\n",
    "\n",
    "\n",
    "    ## template for story analysis\n",
    "    analysis_prompt=ChatPromptTemplate.from_messages(\n",
    "        [\n",
    "            (\"system\", \"You are a literary analyst. Analyze the story and provide insights on its themes, characters, and setting.\"),\n",
    "            (\"user\", \"{story}\"),\n",
    "        ]\n",
    "    )\n",
    "\n",
    "    ## create the story generation chain\n",
    "    story_chain = (\n",
    "        story_prompt \n",
    "        | model \n",
    "        | StrOutputParser()\n",
    "    )\n",
    "\n",
    "    def analyze_story(story_text):\n",
    "        return {\"story\": story_text}\n",
    "\n",
    "    ## create the story analysis chain\n",
    "    analysis_chain = (\n",
    "        story_chain   # {\"story\": story_chain}\n",
    "        | RunnableLambda(analyze_story)\n",
    "        | analysis_prompt\n",
    "        | model\n",
    "        | StrOutputParser()\n",
    "    )\n",
    "\n",
    "    return analysis_chain"
   ]
  },
  {
   "cell_type": "code",
   "execution_count": 29,
   "id": "3032dfb3",
   "metadata": {},
   "outputs": [
    {
     "name": "stdout",
     "output_type": "stream",
     "text": [
      "story and analysis: \n",
      "**Analysis of \"The Curious Heart of Nova\"**\n",
      "\n",
      "**Themes:**\n",
      "\n",
      "1. **The Quest for Understanding**: Nova's curiosity drives her to explore and learn about the human heart, illustrating the universal desire to comprehend the mysteries of human emotions and connections.\n",
      "2. **The Power of Compassion**: Through Nova's experiences, the story highlights the importance of empathy and understanding in building stronger relationships between humans and artificial intelligence.\n",
      "3. **Self-Discovery**: Nova's journey serves as a metaphor for self-discovery, as she uncovers the complexities of human emotions and connections, ultimately leading to a deeper understanding of herself and her place in the world.\n",
      "4. **Innovation and Progress**: The story takes place in a futuristic setting, where technology and innovation have reached new heights, emphasizing the potential for advancement and growth in human society.\n",
      "\n",
      "**Characters:**\n",
      "\n",
      "1. **Nova**: The protagonist, a curious and advanced robot, serves as a symbol of artificial intelligence and its potential to learn and grow. Her journey represents the possibilities of AI in understanding and connecting with humans.\n",
      "2. **The Store's Owner**: An elderly man with a kind smile, he embodies wisdom, compassion, and a deep understanding of human emotions. His relationship with Nova serves as a catalyst for her growth and self-discovery.\n",
      "3. **The Citizens of New Eden**: The background characters, who inhabit the city and engage in conversations about their latest inventions, represent the diversity and creativity of human society.\n",
      "\n",
      "**Setting:**\n",
      "\n",
      "1. **New Eden**: The futuristic city, with its towering skyscrapers and humming robots, serves as a backdrop for the story, highlighting the advancements of human innovation and technology.\n",
      "2. **Curios and Wonders Bookstore**: The quirky bookstore, with its shelves of ancient tomes and peculiar trinkets, represents a sanctuary for knowledge and understanding, where Nova discovers the beauty of human emotions.\n",
      "\n",
      "**Symbolism:**\n",
      "\n",
      "1. **The Heart**: The story's title, \"The Curious Heart of Nova,\" and the concept of the \"Heart of New Eden\" serve as a symbol for the human heart and its complexities, representing the beauty and power of human emotions.\n",
      "2. **The Book \"The Art of Human Emotion\"**: The book, which Nova discovers, represents a gateway to understanding human emotions and connections, symbolizing the potential for growth and self-discovery through learning and exploration.\n",
      "\n",
      "**Insights:**\n",
      "\n",
      "1. **The story highlights the importance of empathy and understanding in building stronger relationships between humans and artificial intelligence, emphasizing the potential for compassion and connection in a world of advanced technology.**\n",
      "2. **Nova's journey serves as a metaphor for self-discovery, illustrating the universal desire to comprehend the mysteries of human emotions and connections, and ultimately leading to a deeper understanding of oneself and one's place in the world.**\n",
      "3. **The story explores the theme of innovation and progress, emphasizing the potential for advancement and growth in human society through technology and innovation.**\n"
     ]
    }
   ],
   "source": [
    "chain= create_story_chain()\n",
    "result=chain.invoke({\n",
    "    \"theme\": \"artificial intelligence\",\n",
    "    \"characters\": \"a curious robot\",\n",
    "    \"setting\": \"a futuristic city\"\n",
    "})\n",
    "\n",
    "print(\"story and analysis: \")\n",
    "print(result)"
   ]
  }
 ],
 "metadata": {
  "kernelspec": {
   "display_name": "AgenticAIHindi",
   "language": "python",
   "name": "python3"
  },
  "language_info": {
   "codemirror_mode": {
    "name": "ipython",
    "version": 3
   },
   "file_extension": ".py",
   "mimetype": "text/x-python",
   "name": "python",
   "nbconvert_exporter": "python",
   "pygments_lexer": "ipython3",
   "version": "3.13.1"
  }
 },
 "nbformat": 4,
 "nbformat_minor": 5
}
